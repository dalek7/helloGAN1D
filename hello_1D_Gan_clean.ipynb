{
 "cells": [
  {
   "cell_type": "code",
   "execution_count": 1,
   "metadata": {},
   "outputs": [],
   "source": [
    "# define and fit a discriminator model\n",
    "from numpy import zeros\n",
    "from numpy import ones\n",
    "from numpy import hstack\n",
    "from numpy.random import rand\n",
    "from numpy.random import randn\n",
    "\n",
    "import numpy as np\n",
    "from tensorflow.keras.models import Sequential\n",
    "from tensorflow.keras.layers import Dense\n",
    "from matplotlib import pyplot\n",
    "from tqdm import tqdm"
   ]
  },
  {
   "cell_type": "code",
   "execution_count": 2,
   "metadata": {},
   "outputs": [],
   "source": [
    "# define the standalone discriminator model\n",
    "def define_discriminator(n_inputs=2):\n",
    "    model = Sequential()\n",
    "    model.add(Dense(25, activation='relu', kernel_initializer='he_uniform', input_dim=n_inputs))\n",
    "    model.add(Dense(1, activation='sigmoid'))\n",
    "    # compile model\n",
    "    model.compile(loss='binary_crossentropy', optimizer='adam', metrics=['accuracy'])\n",
    "    return model\n",
    "\n",
    "# define the standalone generator model\n",
    "def define_generator(latent_dim, n_outputs=2):\n",
    "    model = Sequential()\n",
    "    model.add(Dense(15, activation='relu', kernel_initializer='he_uniform', input_dim=latent_dim))\n",
    "    model.add(Dense(n_outputs, activation='linear'))\n",
    "    return model\n",
    "\n",
    "# define the combined generator and discriminator model, for updating the generator\n",
    "def define_gan(generator, discriminator):\n",
    "    # make weights in the discriminator not trainable\n",
    "    discriminator.trainable = False\n",
    "    # connect them\n",
    "    model = Sequential()\n",
    "    # add generator\n",
    "    model.add(generator)\n",
    "    # add the discriminator\n",
    "    model.add(discriminator)\n",
    "    # compile model\n",
    "    model.compile(loss='binary_crossentropy', optimizer='adam')\n",
    "    return model\n",
    "\n",
    "# generate n real samples with class labels\n",
    "def generate_real_samples(n):\n",
    "    # generate inputs in [-0.5, 0.5]\n",
    "    X1 = rand(n) - 0.5\n",
    "    # generate outputs X^2\n",
    "    X2 = X1 * X1\n",
    "    # stack arrays\n",
    "    X1 = X1.reshape(n, 1)\n",
    "    X2 = X2.reshape(n, 1)\n",
    "    X = hstack((X1, X2))\n",
    "    # generate class labels\n",
    "    y = ones((n, 1))\n",
    "    return X, y\n",
    "\n",
    "# generate points in latent space as input for the generator\n",
    "def generate_latent_points(latent_dim, n):\n",
    "    # generate points in the latent space\n",
    "    x_input = randn(latent_dim * n)\n",
    "    # reshape into a batch of inputs for the network\n",
    "    x_input = x_input.reshape(n, latent_dim)\n",
    "    return x_input\n",
    "\n",
    "# use the generator to generate n fake examples, with class labels\n",
    "def generate_fake_samples(generator, latent_dim, n):\n",
    "    # generate points in latent space\n",
    "    x_input = generate_latent_points(latent_dim, n)\n",
    "    # predict outputs\n",
    "    X = generator.predict(x_input)\n",
    "    # create class labels\n",
    "    y = zeros((n, 1))\n",
    "    return X, y\n",
    "\n",
    "# evaluate the discriminator and plot real and fake points\n",
    "def summarize_performance(epoch, generator, discriminator, latent_dim, n=100):\n",
    "    # prepare real samples\n",
    "    x_real, y_real = generate_real_samples(n)\n",
    "    # evaluate discriminator on real examples\n",
    "    _, acc_real = discriminator.evaluate(x_real, y_real, verbose=0)\n",
    "    # prepare fake examples\n",
    "    x_fake, y_fake = generate_fake_samples(generator, latent_dim, n)\n",
    "    # evaluate discriminator on fake examples\n",
    "    _, acc_fake = discriminator.evaluate(x_fake, y_fake, verbose=0)\n",
    "    # summarize discriminator performance\n",
    "    print(epoch, acc_real, acc_fake)\n",
    "    # scatter plot real and fake data points\n",
    "    pyplot.scatter(x_real[:, 0], x_real[:, 1], color='red')\n",
    "    pyplot.scatter(x_fake[:, 0], x_fake[:, 1], color='blue')\n",
    "    pyplot.title('Epoch : #{}'.format(epoch))\n",
    "    pyplot.show()\n",
    "\n",
    "# train the generator and discriminator\n",
    "def train(g_model, d_model, gan_model, latent_dim, n_epochs=10000, n_batch=128, n_eval=2000):\n",
    "    # determine half the size of one batch, for updating the discriminator\n",
    "    half_batch = int(n_batch / 2)\n",
    "    \n",
    "    # manually enumerate epochs\n",
    "    for i in tqdm(range(n_epochs)):\n",
    "        # prepare real samples\n",
    "        x_real, y_real = generate_real_samples(half_batch)\n",
    "        \n",
    "        # prepare fake examples\n",
    "        x_fake, y_fake = generate_fake_samples(g_model, latent_dim, half_batch)\n",
    "        \n",
    "        # update discriminator\n",
    "        d_model.train_on_batch(x_real, y_real)\n",
    "        d_model.train_on_batch(x_fake, y_fake)\n",
    "        \n",
    "        # prepare points in latent space as input for the generator\n",
    "        x_gan = generate_latent_points(latent_dim, n_batch)\n",
    "        \n",
    "        # create inverted labels for the fake samples\n",
    "        y_gan = ones((n_batch, 1))\n",
    "        # update the generator via the discriminator's error\n",
    "        gan_model.train_on_batch(x_gan, y_gan)\n",
    "        # evaluate the model every n_eval epochs\n",
    "        if (i+0) % n_eval == 0:\n",
    "            summarize_performance(i, g_model, d_model, latent_dim)\n",
    "    \n",
    "    summarize_performance(i, g_model, d_model, latent_dim)"
   ]
  },
  {
   "cell_type": "code",
   "execution_count": 12,
   "metadata": {},
   "outputs": [
    {
     "name": "stdout",
     "output_type": "stream",
     "text": [
      "Model: \"sequential_2\"\n",
      "_________________________________________________________________\n",
      "Layer (type)                 Output Shape              Param #   \n",
      "=================================================================\n",
      "sequential_1 (Sequential)    (None, 2)                 122       \n",
      "_________________________________________________________________\n",
      "sequential (Sequential)      (None, 1)                 101       \n",
      "=================================================================\n",
      "Total params: 223\n",
      "Trainable params: 122\n",
      "Non-trainable params: 101\n",
      "_________________________________________________________________\n"
     ]
    }
   ],
   "source": [
    "gan_model.summary()"
   ]
  },
  {
   "cell_type": "code",
   "execution_count": 3,
   "metadata": {},
   "outputs": [
    {
     "name": "stderr",
     "output_type": "stream",
     "text": [
      "\r",
      "  0%|          | 0/10000 [00:00<?, ?it/s]"
     ]
    },
    {
     "name": "stdout",
     "output_type": "stream",
     "text": [
      "0 0.5099999904632568 0.4300000071525574\n"
     ]
    },
    {
     "data": {
      "image/png": "[encoded data removed]",
      "text/plain": [
       "<Figure size 432x288 with 1 Axes>"
      ]
     },
     "metadata": {
      "needs_background": "light"
     },
     "output_type": "display_data"
    },
    {
     "name": "stderr",
     "output_type": "stream",
     "text": [
      " 20%|██        | 2000/10000 [01:48<07:19, 18.20it/s]"
     ]
    },
    {
     "name": "stdout",
     "output_type": "stream",
     "text": [
      "2000 0.4000000059604645 0.6800000071525574\n"
     ]
    },
    {
     "data": {
      "image/png": "[encoded data removed]",
      "text/plain": [
       "<Figure size 432x288 with 1 Axes>"
      ]
     },
     "metadata": {
      "needs_background": "light"
     },
     "output_type": "display_data"
    },
    {
     "name": "stderr",
     "output_type": "stream",
     "text": [
      " 40%|████      | 4000/10000 [03:37<05:12, 19.18it/s]"
     ]
    },
    {
     "name": "stdout",
     "output_type": "stream",
     "text": [
      "4000 0.4699999988079071 1.0\n"
     ]
    },
    {
     "data": {
      "image/png": "[encoded data removed]",
      "text/plain": [
       "<Figure size 432x288 with 1 Axes>"
      ]
     },
     "metadata": {
      "needs_background": "light"
     },
     "output_type": "display_data"
    },
    {
     "name": "stderr",
     "output_type": "stream",
     "text": [
      " 60%|█████▉    | 5999/10000 [05:25<03:35, 18.53it/s]"
     ]
    },
    {
     "name": "stdout",
     "output_type": "stream",
     "text": [
      "6000 0.3700000047683716 0.75\n"
     ]
    },
    {
     "data": {
      "image/png": "[encoded data removed]",
      "text/plain": [
       "<Figure size 432x288 with 1 Axes>"
      ]
     },
     "metadata": {
      "needs_background": "light"
     },
     "output_type": "display_data"
    },
    {
     "name": "stderr",
     "output_type": "stream",
     "text": [
      " 80%|████████  | 8000/10000 [07:14<01:52, 17.75it/s]"
     ]
    },
    {
     "name": "stdout",
     "output_type": "stream",
     "text": [
      "8000 0.6399999856948853 0.5600000023841858\n"
     ]
    },
    {
     "data": {
      "image/png": "[encoded data removed]",
      "text/plain": [
       "<Figure size 432x288 with 1 Axes>"
      ]
     },
     "metadata": {
      "needs_background": "light"
     },
     "output_type": "display_data"
    },
    {
     "name": "stderr",
     "output_type": "stream",
     "text": [
      "100%|██████████| 10000/10000 [09:04<00:00, 18.37it/s]\n"
     ]
    },
    {
     "name": "stdout",
     "output_type": "stream",
     "text": [
      "9999 0.44999998807907104 0.6700000166893005\n"
     ]
    },
    {
     "data": {
      "image/png": "[encoded data removed]",
      "text/plain": [
       "<Figure size 432x288 with 1 Axes>"
      ]
     },
     "metadata": {
      "needs_background": "light"
     },
     "output_type": "display_data"
    }
   ],
   "source": [
    "# size of the latent space\n",
    "latent_dim = 5\n",
    "n_epochs = 10000\n",
    "\n",
    "# create the discriminator\n",
    "discriminator = define_discriminator()\n",
    "# create the generator\n",
    "generator = define_generator(latent_dim)\n",
    "# create the gan\n",
    "gan_model = define_gan(generator, discriminator)\n",
    "# train model\n",
    "train(generator, discriminator, gan_model, latent_dim, n_epochs)"
   ]
  },
  {
   "cell_type": "code",
   "execution_count": 14,
   "metadata": {},
   "outputs": [
    {
     "data": {
      "text/plain": [
       "Text(0.5, 1.0, 'n_epochs : 10000')"
      ]
     },
     "execution_count": 14,
     "metadata": {},
     "output_type": "execute_result"
    },
    {
     "data": {
      "image/png": "[encoded data removed]",
      "text/plain": [
       "<Figure size 432x288 with 1 Axes>"
      ]
     },
     "metadata": {
      "needs_background": "light"
     },
     "output_type": "display_data"
    }
   ],
   "source": [
    "n_batch = 100\n",
    "x_gan = generate_latent_points(latent_dim, n_batch)\n",
    "x_fake = generator.predict(x_gan)\n",
    "\n",
    "pyplot.scatter(x_fake[:, 0], x_fake[:, 1], color='blue')\n",
    "pyplot.title('n_epochs : {}'.format(n_epochs))"
   ]
  },
  {
   "cell_type": "code",
   "execution_count": 15,
   "metadata": {},
   "outputs": [
    {
     "data": {
      "text/plain": [
       "array([[ 1.26465380e+00,  2.31753961e-01,  3.56219441e-01,\n",
       "         6.14942107e-01, -1.49893663e+00],\n",
       "       [-2.65566756e-01,  1.56900716e-01,  1.24084386e+00,\n",
       "        -8.73776597e-01, -6.03672691e-02],\n",
       "       [-1.25247101e-01, -1.25727242e+00, -2.44677734e-01,\n",
       "        -1.57937920e+00, -2.10303826e+00],\n",
       "       [ 2.50857181e+00,  3.86901283e-02, -2.12068987e+00,\n",
       "        -2.76884210e-01,  9.01475430e-01],\n",
       "       [-1.86265702e+00, -7.83879014e-01, -6.91870595e-01,\n",
       "         3.92702768e-01, -1.78941733e+00],\n",
       "       [-9.52229100e-02,  1.47072894e-01, -3.04699471e+00,\n",
       "        -1.42943808e+00, -1.34447925e-01],\n",
       "       [ 1.39258864e-01,  6.89428804e-01, -1.26816779e+00,\n",
       "        -1.91718071e-01,  7.86765797e-01],\n",
       "       [-5.03584091e-01, -1.95312449e-01, -1.18945390e+00,\n",
       "         4.57812012e-01,  1.23801074e+00],\n",
       "       [ 9.71507268e-02, -1.92684844e-01, -1.08739074e-02,\n",
       "        -4.67280334e-01, -1.01700377e+00],\n",
       "       [ 1.70023414e-01, -3.07608881e-01, -1.42008358e+00,\n",
       "         1.62827240e-01, -1.58453567e-01],\n",
       "       [ 1.02835640e+00,  4.70199360e-01, -1.80130762e-01,\n",
       "        -3.87474336e-01,  1.32305362e+00],\n",
       "       [-1.45588948e+00,  9.92358437e-01, -1.98880112e+00,\n",
       "        -1.40286094e+00, -2.93017022e-01],\n",
       "       [ 3.84336585e-02, -4.41497225e-01,  2.38842596e-01,\n",
       "         2.86851647e-01,  1.36010042e+00],\n",
       "       [ 4.12142206e-01, -4.71358798e-01,  1.78316853e+00,\n",
       "         1.44679798e+00, -4.04677654e-01],\n",
       "       [-6.66852305e-01, -1.10472327e+00, -5.26731195e-02,\n",
       "         8.61767156e-01,  9.29417935e-01],\n",
       "       [-4.99148298e-01,  5.15144987e-01,  1.71106777e+00,\n",
       "        -4.85907915e-01,  1.59324445e+00],\n",
       "       [-1.37498676e-01, -4.68163326e-01,  1.05337872e+00,\n",
       "        -6.75919598e-01, -6.36681287e-01],\n",
       "       [ 6.12815896e-01,  1.24943050e+00,  6.23422651e-01,\n",
       "        -8.11523518e-01, -1.39684695e-01],\n",
       "       [ 9.68916571e-01,  2.02922084e-01, -7.52819742e-01,\n",
       "         1.32957928e+00, -3.72837736e-01],\n",
       "       [ 1.08248364e+00, -9.40611448e-01, -1.10962995e+00,\n",
       "         1.85087531e-01,  6.51711585e-01],\n",
       "       [ 2.16754629e-01, -5.99589390e-01,  1.83393650e-01,\n",
       "        -8.20909447e-01, -9.84387197e-02],\n",
       "       [ 1.45830166e-01, -1.61588134e-01, -7.93254371e-01,\n",
       "         2.09865178e-01,  8.10801515e-01],\n",
       "       [-4.66449152e-01, -1.53467062e-01,  1.15062493e+00,\n",
       "        -2.58500759e-01, -1.24901532e-01],\n",
       "       [-6.89536594e-01, -1.42116528e+00,  1.78991803e+00,\n",
       "         6.83266426e-01,  7.04594465e-01],\n",
       "       [-1.34700607e-01,  1.07549503e-01, -3.38500173e-02,\n",
       "         6.35708452e-01,  5.47845534e-01],\n",
       "       [-1.04879916e-02,  9.38618928e-01, -5.83039913e-01,\n",
       "        -7.81997722e-01, -7.62769935e-01],\n",
       "       [-1.84519489e+00,  5.02097759e-01,  5.31945837e-01,\n",
       "        -1.96457408e-01,  6.84657433e-01],\n",
       "       [ 1.77025987e+00,  3.71068340e-01, -1.65325168e-01,\n",
       "         8.95366378e-01,  2.98537656e-01],\n",
       "       [ 8.68998359e-01, -2.94351896e+00,  2.33353865e+00,\n",
       "         7.16298533e-01, -4.07359737e-01],\n",
       "       [ 7.01490958e-01,  5.10632050e-02, -9.33773259e-01,\n",
       "        -1.02175715e+00,  2.93424996e-01],\n",
       "       [ 1.31083352e+00,  3.54656986e-01,  3.58937325e-01,\n",
       "         5.28136102e-01,  5.06991099e-01],\n",
       "       [-8.45977318e-02, -2.93842690e-01,  4.52890513e-01,\n",
       "         8.20730398e-01, -5.95788336e-01],\n",
       "       [-1.23026727e+00,  4.46450415e-01,  1.50575177e+00,\n",
       "        -1.63675483e+00,  2.13125229e-02],\n",
       "       [-1.02817369e+00,  3.29229388e-01, -9.70027465e-01,\n",
       "        -1.08546903e+00,  4.49050091e-02],\n",
       "       [-4.80383156e-02,  6.21763230e-01,  9.98986732e-02,\n",
       "         3.76343528e-01,  2.41238577e-01],\n",
       "       [ 1.68006901e-01, -1.26534845e-01, -4.58618311e-03,\n",
       "        -2.22438393e+00,  2.02569597e-01],\n",
       "       [-1.37385956e+00,  2.10261178e-01,  8.31945033e-01,\n",
       "        -3.59970317e-01,  5.46149622e-01],\n",
       "       [-2.93881405e-02, -1.44709981e+00, -3.77052174e-01,\n",
       "         1.59504740e-01,  7.68897306e-01],\n",
       "       [ 3.69384301e-01, -1.53476228e+00, -9.97365248e-01,\n",
       "         3.39694659e+00, -4.69423337e-01],\n",
       "       [-6.09495719e-01,  8.35611163e-01, -8.31341501e-01,\n",
       "        -2.36080820e-01,  9.49478301e-01],\n",
       "       [ 5.34464902e-01,  1.97582595e-03,  4.06252772e-01,\n",
       "        -3.42322989e-01, -3.25779238e-01],\n",
       "       [ 1.32315543e+00,  6.52495331e-01, -4.97612301e-01,\n",
       "         2.30522419e+00,  5.78182124e-01],\n",
       "       [-7.61104336e-01, -2.27305441e+00, -9.65666219e-01,\n",
       "        -2.82702891e-01,  4.56356147e-02],\n",
       "       [-1.09623552e+00, -7.00355739e-01, -1.18242935e+00,\n",
       "         7.99377358e-01, -5.01290240e-01],\n",
       "       [ 7.62639167e-01, -4.20112370e-01, -9.80200888e-01,\n",
       "         1.10997838e+00,  3.32190018e-01],\n",
       "       [-2.01383009e+00,  3.24115116e-01,  7.44154990e-01,\n",
       "         2.29620772e+00, -4.28070678e-01],\n",
       "       [ 5.48290451e-01,  4.16698938e-01, -4.88215726e-01,\n",
       "        -1.01034431e+00,  9.06558394e-01],\n",
       "       [ 1.73526827e+00, -4.82054162e-01,  1.20592237e+00,\n",
       "         2.98747187e-01,  1.01588007e-01],\n",
       "       [-1.98945892e+00, -9.12306276e-01,  4.63859165e-01,\n",
       "         7.28546469e-01,  5.39934835e-01],\n",
       "       [-5.60259824e-01,  1.40023394e-01, -4.68054146e-01,\n",
       "        -9.38985934e-01,  1.64372066e+00],\n",
       "       [ 1.46979910e+00, -5.40555378e-01,  2.88908380e-01,\n",
       "        -7.12892983e-01,  1.33658649e-01],\n",
       "       [-1.50108839e+00, -2.38880087e-02, -6.39748501e-01,\n",
       "         2.81244009e-01, -2.38025258e-01],\n",
       "       [-2.27455219e+00, -2.71284380e-01,  1.01122593e+00,\n",
       "         3.09527014e-01, -6.73538022e-01],\n",
       "       [-3.16288889e-01, -2.40811889e-01, -2.49571914e-01,\n",
       "        -1.41572256e+00,  5.87271271e-01],\n",
       "       [ 5.14830175e-01,  9.20185163e-01,  6.22674510e-01,\n",
       "        -2.06279420e+00, -7.86466056e-01],\n",
       "       [-2.12627155e+00, -8.29986650e-01,  4.74804370e-01,\n",
       "        -1.38498326e-01,  1.35917786e+00],\n",
       "       [ 5.64531676e-01, -7.80316564e-01,  9.30033087e-01,\n",
       "         6.68048692e-01,  2.00844118e+00],\n",
       "       [ 1.00080846e+00,  1.14754740e+00, -8.97459585e-02,\n",
       "        -1.86634416e+00,  1.07607224e+00],\n",
       "       [ 1.37851209e+00,  1.35428596e+00,  1.72699432e+00,\n",
       "        -2.79382609e+00,  8.07234703e-01],\n",
       "       [-7.04882378e-01,  4.92934838e-01,  2.24665245e+00,\n",
       "        -9.34918445e-01, -6.64742121e-01],\n",
       "       [-6.01965476e-02, -6.40611459e-02,  9.55827232e-01,\n",
       "        -6.49605058e-01,  2.13456800e-01],\n",
       "       [-4.80276166e-01, -6.03963171e-01, -1.69554826e+00,\n",
       "         6.05497251e-01, -1.65005004e+00],\n",
       "       [ 8.41227586e-01, -7.95812691e-01, -6.06989123e-01,\n",
       "         1.49262649e+00, -6.61768069e-01],\n",
       "       [-5.85582117e-01,  1.87123130e+00,  9.92519277e-01,\n",
       "         1.28595455e+00,  3.64412984e-02],\n",
       "       [ 6.34599553e-01, -3.47738457e-01, -4.29332948e-01,\n",
       "        -8.86882579e-01, -1.30724171e+00],\n",
       "       [ 3.20216353e-01, -1.38113178e-01, -8.62267306e-02,\n",
       "         1.90419217e+00,  5.38499453e-02],\n",
       "       [ 1.59945727e+00,  9.60933809e-01,  4.14826295e-01,\n",
       "        -9.25647392e-03, -2.24062458e-01],\n",
       "       [-3.53904787e-01, -9.06904910e-02,  2.49524118e+00,\n",
       "        -6.73331393e-01,  5.79743224e-01],\n",
       "       [ 2.40956065e+00, -4.14193533e-01,  1.26852553e+00,\n",
       "         1.74298984e-01,  2.21829673e-02],\n",
       "       [ 2.18808764e+00, -3.82823203e-01, -3.74506712e-01,\n",
       "        -9.45666639e-01,  1.99208957e+00],\n",
       "       [ 7.83199496e-01,  5.74403770e-01,  5.06404681e-01,\n",
       "        -2.44286757e-01, -1.43261370e+00],\n",
       "       [-5.34161073e-01,  1.68999367e-02,  3.42035191e-01,\n",
       "         1.70964558e+00, -3.87647407e-01],\n",
       "       [ 1.13001534e+00,  4.97037632e-01,  1.22319471e-01,\n",
       "        -1.01765218e+00, -2.93477518e-01],\n",
       "       [-1.10417962e+00,  2.41731643e+00,  4.06223321e-01,\n",
       "         1.87753232e+00,  1.40571252e+00],\n",
       "       [ 1.22207964e-01, -5.31203945e-01,  2.33064604e+00,\n",
       "         2.20728828e-01,  9.97720342e-01],\n",
       "       [-6.47396591e-01,  1.29292148e+00, -4.68809983e-02,\n",
       "        -4.41049031e-01, -2.25156496e-01],\n",
       "       [-1.26341033e-01, -3.12689352e-01,  6.62827614e-01,\n",
       "        -8.76334107e-01, -9.54849051e-01],\n",
       "       [ 1.08205849e-02,  8.67771501e-01,  5.00982272e-02,\n",
       "         7.66376219e-01, -4.74786004e-01],\n",
       "       [ 6.12217262e-01, -1.40447418e-01,  5.38351602e-01,\n",
       "        -2.47345711e+00, -7.12134859e-01],\n",
       "       [ 6.88482258e-01, -1.36968096e+00, -9.09575697e-02,\n",
       "        -1.28244360e+00,  9.97526668e-01],\n",
       "       [-1.22970750e-01,  2.36429223e-01,  4.44930523e-01,\n",
       "        -4.26557233e-01, -1.52783025e+00],\n",
       "       [ 8.94239266e-01,  2.35453465e+00,  1.39944016e+00,\n",
       "        -3.53502302e-01,  1.20067345e+00],\n",
       "       [-2.74461018e-01, -1.14493670e+00,  1.42295899e+00,\n",
       "         9.95264249e-01,  2.40402764e-01],\n",
       "       [-8.99608843e-02,  3.54686026e-01,  1.36178027e+00,\n",
       "        -9.33211678e-01,  2.84871674e-01],\n",
       "       [-5.79928996e-02, -6.42791857e-01, -1.08080260e+00,\n",
       "        -6.87072239e-01,  1.49055292e-02],\n",
       "       [ 1.66862846e-01,  2.98124415e-01,  7.88673380e-01,\n",
       "         1.36909225e+00, -6.14495847e-01],\n",
       "       [-2.29105551e-01,  1.09756606e+00, -1.79723035e+00,\n",
       "        -1.25643618e+00,  4.89772242e-01],\n",
       "       [ 1.85818903e-01,  4.35738110e-02,  8.29470111e-01,\n",
       "         1.57963527e+00, -2.75941999e-01],\n",
       "       [ 5.78379600e-01,  2.71349261e+00,  1.03388263e-01,\n",
       "        -4.30112566e-01, -2.02272721e+00],\n",
       "       [-9.77900483e-01, -1.71825744e+00,  3.32985424e-01,\n",
       "         7.51891052e-01, -1.15151989e-02],\n",
       "       [ 1.45259036e-02, -3.97908972e-01,  7.46481021e-01,\n",
       "        -1.52420214e-01, -3.10808430e-01],\n",
       "       [ 5.12389406e-01, -1.39043802e+00,  4.17657278e-01,\n",
       "         6.61765098e-01,  2.39933311e-01],\n",
       "       [-6.78561868e-01,  5.05175190e-01, -7.20842939e-01,\n",
       "         1.16232942e+00,  4.50901295e-01],\n",
       "       [-2.02130368e-02,  1.96563781e+00, -1.19484532e+00,\n",
       "         9.20458526e-01, -5.36657334e-01],\n",
       "       [ 4.32555234e-01, -1.58494664e+00,  7.25138669e-01,\n",
       "         1.15949008e+00,  1.10382384e-01],\n",
       "       [ 4.44559577e-01, -5.01678976e-01,  5.00417539e-01,\n",
       "         2.33901905e-01,  7.38672851e-01],\n",
       "       [ 1.19878091e+00, -6.36344282e-01, -1.28307642e+00,\n",
       "        -1.07093078e+00, -3.46298905e-01],\n",
       "       [-6.63717294e-02,  1.63274257e+00, -4.29248835e-01,\n",
       "        -1.46318018e-01,  3.75970313e-01],\n",
       "       [ 5.29229267e-01, -1.42225556e+00, -1.17274081e-01,\n",
       "         6.36477215e-01,  8.17450704e-01],\n",
       "       [ 4.55189052e-02, -3.29024342e-02,  8.67369490e-01,\n",
       "         1.26742379e-01, -1.21776135e+00]])"
      ]
     },
     "execution_count": 15,
     "metadata": {},
     "output_type": "execute_result"
    }
   ],
   "source": [
    "x_gan"
   ]
  },
  {
   "cell_type": "markdown",
   "metadata": {},
   "source": [
    "### References\n",
    "* How to Develop a 1D Generative Adversarial Network From Scratch in Keras <br/>\n",
    "https://archive.is/zSpu1<br/> \n",
    "https://machinelearningmastery.com/how-to-develop-a-generative-adversarial-network-for-a-1-dimensional-function-from-scratch-in-keras/"
   ]
  }
 ],
 "metadata": {
  "kernelspec": {
   "display_name": "Python 3",
   "language": "python",
   "name": "python3"
  },
  "language_info": {
   "codemirror_mode": {
    "name": "ipython",
    "version": 3
   },
   "file_extension": ".py",
   "mimetype": "text/x-python",
   "name": "python",
   "nbconvert_exporter": "python",
   "pygments_lexer": "ipython3",
   "version": "3.6.8"
  }
 },
 "nbformat": 4,
 "nbformat_minor": 2
}
